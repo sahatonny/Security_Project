{
  "nbformat": 4,
  "nbformat_minor": 0,
  "metadata": {
    "colab": {
      "private_outputs": true,
      "provenance": []
    },
    "kernelspec": {
      "name": "python3",
      "display_name": "Python 3"
    },
    "language_info": {
      "name": "python"
    }
  },
  "cells": [
    {
      "cell_type": "code",
      "source": [
        "import random\n",
        "import string\n",
        "\n",
        "chars = \" \" + string.punctuation + string.digits + string.ascii_letters\n",
        "chars = list(chars)\n",
        "key = chars.copy()\n",
        "\n",
        "random.shuffle(key)\n",
        "\n",
        "# ENCRYPT\n",
        "plain_text = input(\"Enter a message to encrypt: \")\n",
        "cipher_text = \"\"\n",
        "\n",
        "for letter in plain_text:\n",
        "    index = chars.index(letter)\n",
        "    cipher_text += key[index]\n",
        "\n",
        "print(f\"original message : {plain_text}\")\n",
        "print(f\"encrypted message: {cipher_text}\")\n",
        "\n",
        "# DECRYPT\n",
        "cipher_text = input(\"Enter a message to decrypt: \")\n",
        "plain_text = \"\"\n",
        "\n",
        "for letter in cipher_text:\n",
        "    index = key.index(letter)\n",
        "    plain_text += chars[index]\n",
        "\n",
        "print(f\"encrypted message: {cipher_text}\")\n",
        "print(f\"decrypted message : {plain_text}\")\n"
      ],
      "metadata": {
        "id": "C_YJuZwnL4tP"
      },
      "execution_count": null,
      "outputs": []
    }
  ]
}
