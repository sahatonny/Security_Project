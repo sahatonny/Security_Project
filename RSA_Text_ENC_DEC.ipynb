{
  "nbformat": 4,
  "nbformat_minor": 0,
  "metadata": {
    "colab": {
      "private_outputs": true,
      "provenance": []
    },
    "kernelspec": {
      "name": "python3",
      "display_name": "Python 3"
    },
    "language_info": {
      "name": "python"
    }
  },
  "cells": [
    {
      "cell_type": "code",
      "execution_count": null,
      "metadata": {
        "id": "T1QmI17cyfW2"
      },
      "outputs": [],
      "source": [
        "import random\n",
        "import math\n",
        "\n",
        "# Input p and q from the user\n",
        "p = int(input(\"Enter a prime number p: \"))\n",
        "q = int(input(\"Enter another prime number q (not equal to p): \"))\n",
        "\n",
        "n = p * q\n",
        "phi = (p - 1) * (q - 1)\n",
        "\n",
        "print(f'[+] n = {n} and euler totient = {phi}')\n",
        "\n",
        "# Calculate gcd(e,phi) = 1 and 1 < e < phi.\n",
        "def generate_e(phi):\n",
        "    possible_e_values = []\n",
        "    for i in range(2, phi):\n",
        "        if math.gcd(i, phi) == 1:\n",
        "            e = i\n",
        "            possible_e_values.append(e)\n",
        "    return random.choice(possible_e_values)\n",
        "\n",
        "e = generate_e(phi)\n",
        "\n",
        "print(f'[+] e = {e}')\n",
        "\n",
        "def generate_d(e, phi):\n",
        "    for i in range(2, phi):\n",
        "        if (i * e) % phi == 1:\n",
        "            d = i\n",
        "            break\n",
        "    return d\n",
        "\n",
        "d = generate_d(e, phi)\n",
        "\n",
        "print(f'[+] d = {d}')\n",
        "\n",
        "# Take plaintext from the user\n",
        "plain_text = input(\"Enter a message to encrypt: \")\n",
        "\n",
        "# Encrypt\n",
        "msg = [ord(char) for char in plain_text]\n",
        "e_msg = [pow(char, e, n) for char in msg]\n",
        "\n",
        "print(f'[+] Encrypted msg : {e_msg}')\n",
        "\n",
        "# Decrypt\n",
        "d_msg = [pow(char, d, n) for char in e_msg]\n",
        "decrypted_text = ''.join(chr(char) for char in d_msg)\n",
        "\n",
        "print(f'[+] Decrypted msg : {decrypted_text}')\n"
      ]
    }
  ]
}