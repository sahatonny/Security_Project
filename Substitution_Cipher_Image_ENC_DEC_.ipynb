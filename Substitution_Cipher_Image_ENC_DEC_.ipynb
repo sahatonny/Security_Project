{
  "nbformat": 4,
  "nbformat_minor": 0,
  "metadata": {
    "colab": {
      "private_outputs": true,
      "provenance": []
    },
    "kernelspec": {
      "name": "python3",
      "display_name": "Python 3"
    },
    "language_info": {
      "name": "python"
    }
  },
  "cells": [
    {
      "cell_type": "code",
      "source": [
        "from PIL import Image\n",
        "import random\n",
        "\n",
        "# Load the image\n",
        "input_image = \"input_image.png\"\n",
        "output_image = \"encrypted_image.png\"\n",
        "image = Image.open(input_image)\n",
        "\n",
        "# Define a substitution key\n",
        "substitution_key = {}\n",
        "for i in range(256):\n",
        "    substitution_key[i] = random.randint(0, 255)\n",
        "\n",
        "# Encrypt the image using substitution cipher\n",
        "encrypted_pixels = [substitution_key[pixel] for pixel in image.tobytes()]\n",
        "encrypted_image = Image.frombytes(image.mode, image.size, bytes(encrypted_pixels))\n",
        "\n",
        "# Save the encrypted image\n",
        "encrypted_image.save(output_image)\n",
        "print(\"Image encrypted and saved as encrypted_image.png\")\n"
      ],
      "metadata": {
        "id": "Ry6bhdMr2nQw"
      },
      "execution_count": null,
      "outputs": []
    },
    {
      "cell_type": "code",
      "source": [
        "from PIL import Image\n",
        "import random\n",
        "\n",
        "# Load the image\n",
        "input_image = \"input_image.png\"\n",
        "output_encrypted_image = \"encrypted_image.png\"\n",
        "output_decrypted_image = \"decrypted_image.png\"\n",
        "image = Image.open(input_image)\n",
        "\n",
        "# Define a substitution key\n",
        "substitution_key = {}\n",
        "for i in range(256):\n",
        "    substitution_key[i] = random.randint(0, 255)\n",
        "\n",
        "# Encrypt the image using substitution cipher\n",
        "encrypted_pixels = [substitution_key[pixel] for pixel in image.tobytes()]\n",
        "encrypted_image = Image.frombytes(image.mode, image.size, bytes(encrypted_pixels))\n",
        "encrypted_image.save(output_encrypted_image)\n",
        "print(\"Image encrypted and saved as encrypted_image.png\")\n",
        "\n",
        "# Decrypt the image using the same substitution key\n",
        "inverse_substitution_key = {v: k for k, v in substitution_key.items()}\n",
        "decrypted_pixels = [inverse_substitution_key[pixel] for pixel in encrypted_image.tobytes()]\n",
        "decrypted_image = Image.frombytes(encrypted_image.mode, encrypted_image.size, bytes(decrypted_pixels))\n",
        "decrypted_image.save(output_decrypted_image)\n",
        "print(\"Image decrypted and saved as decrypted_image.png\")\n"
      ],
      "metadata": {
        "id": "mo0BOpvM3BcQ"
      },
      "execution_count": null,
      "outputs": []
    }
  ]
}