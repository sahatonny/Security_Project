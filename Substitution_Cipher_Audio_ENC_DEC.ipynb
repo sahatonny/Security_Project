{
  "nbformat": 4,
  "nbformat_minor": 0,
  "metadata": {
    "colab": {
      "private_outputs": true,
      "provenance": []
    },
    "kernelspec": {
      "name": "python3",
      "display_name": "Python 3"
    },
    "language_info": {
      "name": "python"
    }
  },
  "cells": [
    {
      "cell_type": "code",
      "execution_count": null,
      "metadata": {
        "id": "W48kDgSA8e0H"
      },
      "outputs": [],
      "source": [
        "import random\n",
        "import wave\n",
        "\n",
        "# Load the audio file\n",
        "input_audio = \"input_audio.wav\"\n",
        "output_encrypted_audio = \"encrypted_audio.wav\"\n",
        "output_decrypted_audio = \"decrypted_audio.wav\"\n",
        "\n",
        "# Read the audio file\n",
        "with wave.open(input_audio, \"rb\") as audio_file:\n",
        "    params = audio_file.getparams()\n",
        "    audio_data = audio_file.readframes(params.nframes)\n",
        "\n",
        "# Define a substitution key\n",
        "substitution_key = {}\n",
        "for i in range(256):\n",
        "    substitution_key[i] = random.randint(0, 255)\n",
        "\n",
        "# Encrypt the audio using substitution cipher\n",
        "encrypted_audio_data = bytes([substitution_key[byte] for byte in audio_data])\n",
        "\n",
        "# Save the encrypted audio\n",
        "with wave.open(output_encrypted_audio, \"wb\") as encrypted_audio_file:\n",
        "    encrypted_audio_file.setparams(params)\n",
        "    encrypted_audio_file.writeframes(encrypted_audio_data)\n",
        "\n",
        "print(\"Audio encrypted and saved as encrypted_audio.wav\")\n",
        "\n",
        "# Decrypt the audio using the same substitution key\n",
        "inverse_substitution_key = {v: k for k, v in substitution_key.items()}\n",
        "decrypted_audio_data = bytes([inverse_substitution_key[byte] for byte in encrypted_audio_data])\n",
        "\n",
        "# Save the decrypted audio\n",
        "with wave.open(output_decrypted_audio, \"wb\") as decrypted_audio_file:\n",
        "    decrypted_audio_file.setparams(params)\n",
        "    decrypted_audio_file.writeframes(decrypted_audio_data)\n",
        "\n",
        "print(\"Audio decrypted and saved as decrypted_audio.wav\")\n"
      ]
    }
  ]
}