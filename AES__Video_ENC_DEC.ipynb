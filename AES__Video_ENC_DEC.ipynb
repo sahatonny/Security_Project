{
  "nbformat": 4,
  "nbformat_minor": 0,
  "metadata": {
    "colab": {
      "private_outputs": true,
      "provenance": []
    },
    "kernelspec": {
      "name": "python3",
      "display_name": "Python 3"
    },
    "language_info": {
      "name": "python"
    }
  },
  "cells": [
    {
      "cell_type": "code",
      "execution_count": null,
      "metadata": {
        "id": "GZyKEXscFb-x"
      },
      "outputs": [],
      "source": [
        "from cryptography.fernet import Fernet\n",
        "\n",
        "def generate_key():\n",
        "    return Fernet.generate_key()\n",
        "\n",
        "def encrypt_file(key, input_path, output_path):\n",
        "    with open(input_path, 'rb') as file:\n",
        "        data = file.read()\n",
        "    cipher_suite = Fernet(key)\n",
        "    encrypted_data = cipher_suite.encrypt(data)\n",
        "    with open(output_path, 'wb') as file:\n",
        "        file.write(encrypted_data)\n",
        "\n",
        "def decrypt_file(key, input_path, output_path):\n",
        "    with open(input_path, 'rb') as file:\n",
        "        encrypted_data = file.read()\n",
        "    cipher_suite = Fernet(key)\n",
        "    decrypted_data = cipher_suite.decrypt(encrypted_data)\n",
        "    with open(output_path, 'wb') as file:\n",
        "        file.write(decrypted_data)\n",
        "\n",
        "# Generate a random encryption key\n",
        "encryption_key = generate_key()\n",
        "\n",
        "# Path to the video files\n",
        "input_video = 'input_video.mp4'\n",
        "encrypted_video = 'encrypted_video.mp4'\n",
        "decrypted_video = 'decrypted_video.mp4'\n",
        "\n",
        "# Encrypt the video\n",
        "encrypt_file(encryption_key, input_video, encrypted_video)\n",
        "print(\"Video encrypted and saved as encrypted_video.mp4\")\n",
        "\n",
        "# Decrypt the video\n",
        "decrypt_file(encryption_key, encrypted_video, decrypted_video)\n",
        "print(\"Video decrypted and saved as decrypted_video.mp4\")\n"
      ]
    }
  ]
}